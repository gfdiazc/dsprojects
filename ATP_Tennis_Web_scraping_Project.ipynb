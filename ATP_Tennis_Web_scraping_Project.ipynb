{
  "nbformat": 4,
  "nbformat_minor": 0,
  "metadata": {
    "colab": {
      "name": "Web scraping.ipynb",
      "provenance": [],
      "collapsed_sections": [],
      "authorship_tag": "ABX9TyPYVIJF82/fH7tMqvk2nDrF",
      "include_colab_link": true
    },
    "kernelspec": {
      "name": "python3",
      "display_name": "Python 3"
    },
    "language_info": {
      "name": "python"
    }
  },
  "cells": [
    {
      "cell_type": "markdown",
      "metadata": {
        "id": "view-in-github",
        "colab_type": "text"
      },
      "source": [
        "<a href=\"https://colab.research.google.com/github/gfdiazc/dsprojects/blob/main/ATP_Tennis_Web_scraping_Project.ipynb\" target=\"_parent\"><img src=\"https://colab.research.google.com/assets/colab-badge.svg\" alt=\"Open In Colab\"/></a>"
      ]
    },
    {
      "cell_type": "markdown",
      "metadata": {
        "id": "KpShdYFON3rH"
      },
      "source": [
        "# Introduction\n",
        "\n",
        "The goal of this project is to analyze the data of the ATP Tennis and learn more about web scraping and data analysis whit Phyton.\n",
        "\n",
        "To do this, I'm going to do a little of Web Scraping using the Beautiful Soup and the Request library. One time that extract the data in the web page, then I'm going to analyze using Pandas, Matplotlib, Numpy and Seaborn libraries.\n",
        "\n",
        "## Data Source:\n",
        "\n",
        "Thanks to https://www.ultimatetennisstatistics.com, that is the webpage that I'm going to scraping for this project.\n",
        "\n",
        "**Note: It's important to consider that this data maybe is not 100% actualize, but this is a more educational project. For the next time I'm going to use ATP Tour data.**\n",
        "\n",
        "## Project Goals:\n",
        "\n",
        "Understanding more about the professional player of the ATP Tour. Some question that we can solve to do that:\n",
        "\n",
        "*   What is the distribution or average in weeks for a player that reach the number 1 of the ranking?\n",
        "\n",
        "*   Which player has the most weeks as No. 1 in the ATP Rankings?\n",
        "\n",
        "*   Who is the player who won the most Grand Slam?\n",
        "\n",
        "*   What countries have more Olympic medals?"
      ]
    },
    {
      "cell_type": "code",
      "metadata": {
        "id": "ESKrWdyAJRPM"
      },
      "source": [
        "# Import the libraries\n",
        "import requests\n",
        "from bs4 import BeautifulSoup as bs\n",
        "import json\n",
        "import pandas as pd\n",
        "import numpy as np\n",
        "import matplotlib.pyplot as plt\n",
        "%matplotlib inline\n",
        "\n",
        "# Style of the plots\n",
        "color_1 = '#002865'\n",
        "color_2 = '#00AFF0' "
      ],
      "execution_count": 1,
      "outputs": []
    },
    {
      "cell_type": "code",
      "metadata": {
        "id": "O1BduItaMVbu"
      },
      "source": [
        "webpage = 'https://www.ultimatetennisstatistics.com/goatListTable?current=1&rowCount=-1&sort%5BtotalPoints%5D=desc&searchPhrase=&oldLegends=true&_=1620987911961'\n",
        "\n",
        "source = requests.get(webpage)\n",
        "\n",
        "# Convert to a beatiful soup object\n",
        "soup = bs(source.content)\n",
        "\n",
        "# Print out the html\n",
        "content = soup.prettify()\n",
        "#print(content) #It's ok"
      ],
      "execution_count": 2,
      "outputs": []
    },
    {
      "cell_type": "code",
      "metadata": {
        "id": "oYnrSx3LPZc0"
      },
      "source": [
        "# Get the table data in json format\n",
        "table = soup.find('p').text\n",
        "#print(table) #It's ok"
      ],
      "execution_count": 3,
      "outputs": []
    },
    {
      "cell_type": "code",
      "metadata": {
        "colab": {
          "base_uri": "https://localhost:8080/",
          "height": 165
        },
        "id": "MJUOMzz6K_kR",
        "outputId": "498da8f6-bbba-401b-9952-bef52cb48b9c"
      },
      "source": [
        "# Load json data into a data frame using pandas\n",
        "df = pd.read_json(table)\n",
        "\n",
        "new_df = pd.json_normalize(json.loads(df.to_json(orient=\"records\")))\n",
        "new_df.head(2)"
      ],
      "execution_count": 4,
      "outputs": [
        {
          "output_type": "execute_result",
          "data": {
            "text/html": [
              "<div>\n",
              "<style scoped>\n",
              "    .dataframe tbody tr th:only-of-type {\n",
              "        vertical-align: middle;\n",
              "    }\n",
              "\n",
              "    .dataframe tbody tr th {\n",
              "        vertical-align: top;\n",
              "    }\n",
              "\n",
              "    .dataframe thead th {\n",
              "        text-align: right;\n",
              "    }\n",
              "</style>\n",
              "<table border=\"1\" class=\"dataframe\">\n",
              "  <thead>\n",
              "    <tr style=\"text-align: right;\">\n",
              "      <th></th>\n",
              "      <th>current</th>\n",
              "      <th>rowCount</th>\n",
              "      <th>total</th>\n",
              "      <th>rows.rank</th>\n",
              "      <th>rows.playerId</th>\n",
              "      <th>rows.name</th>\n",
              "      <th>rows.country.name</th>\n",
              "      <th>rows.country.id</th>\n",
              "      <th>rows.country.code</th>\n",
              "      <th>rows.active</th>\n",
              "      <th>rows.dob</th>\n",
              "      <th>rows.totalPoints</th>\n",
              "      <th>rows.tournamentPoints</th>\n",
              "      <th>rows.rankingPoints</th>\n",
              "      <th>rows.achievementsPoints</th>\n",
              "      <th>rows.tGPoints</th>\n",
              "      <th>rows.tFLPoints</th>\n",
              "      <th>rows.tMPoints</th>\n",
              "      <th>rows.tOPoints</th>\n",
              "      <th>rows.tABPoints</th>\n",
              "      <th>rows.tDTPoints</th>\n",
              "      <th>rows.yearEndRankPoints</th>\n",
              "      <th>rows.bestRankPoints</th>\n",
              "      <th>rows.weeksAtNo1Points</th>\n",
              "      <th>rows.weeksAtEloTopNPoints</th>\n",
              "      <th>rows.bestEloRatingPoints</th>\n",
              "      <th>rows.grandSlamPoints</th>\n",
              "      <th>rows.bigWinsPoints</th>\n",
              "      <th>rows.h2hPoints</th>\n",
              "      <th>rows.recordsPoints</th>\n",
              "      <th>rows.bestSeasonPoints</th>\n",
              "      <th>rows.greatestRivalriesPoints</th>\n",
              "      <th>rows.performancePoints</th>\n",
              "      <th>rows.statisticsPoints</th>\n",
              "      <th>rows.grandSlams</th>\n",
              "      <th>rows.tourFinals</th>\n",
              "      <th>rows.altFinals</th>\n",
              "      <th>rows.masters</th>\n",
              "      <th>rows.olympics</th>\n",
              "      <th>rows.bigTitles</th>\n",
              "      <th>rows.titles</th>\n",
              "      <th>rows.weeksAtNo1</th>\n",
              "      <th>rows.wonLost</th>\n",
              "      <th>rows.bestEloRating</th>\n",
              "      <th>rows.bestEloRatingDate</th>\n",
              "      <th>rows.wonPct</th>\n",
              "    </tr>\n",
              "  </thead>\n",
              "  <tbody>\n",
              "    <tr>\n",
              "      <th>0</th>\n",
              "      <td>1</td>\n",
              "      <td>654</td>\n",
              "      <td>654</td>\n",
              "      <td>1</td>\n",
              "      <td>3819</td>\n",
              "      <td>Roger Federer</td>\n",
              "      <td>Switzerland</td>\n",
              "      <td>SUI</td>\n",
              "      <td>ch</td>\n",
              "      <td>True</td>\n",
              "      <td>1981-08-08</td>\n",
              "      <td>934</td>\n",
              "      <td>565</td>\n",
              "      <td>199</td>\n",
              "      <td>170</td>\n",
              "      <td>245</td>\n",
              "      <td>65</td>\n",
              "      <td>172</td>\n",
              "      <td>2</td>\n",
              "      <td>80</td>\n",
              "      <td>1</td>\n",
              "      <td>83</td>\n",
              "      <td>8</td>\n",
              "      <td>31</td>\n",
              "      <td>59</td>\n",
              "      <td>18</td>\n",
              "      <td>32</td>\n",
              "      <td>40</td>\n",
              "      <td>18</td>\n",
              "      <td>66</td>\n",
              "      <td>3</td>\n",
              "      <td>3</td>\n",
              "      <td>5</td>\n",
              "      <td>3</td>\n",
              "      <td>20</td>\n",
              "      <td>6</td>\n",
              "      <td>0</td>\n",
              "      <td>28</td>\n",
              "      <td>0</td>\n",
              "      <td>54</td>\n",
              "      <td>103</td>\n",
              "      <td>310</td>\n",
              "      <td>1237-273</td>\n",
              "      <td>2550</td>\n",
              "      <td>2007-03-05</td>\n",
              "      <td>81.9%</td>\n",
              "    </tr>\n",
              "    <tr>\n",
              "      <th>1</th>\n",
              "      <td>1</td>\n",
              "      <td>654</td>\n",
              "      <td>654</td>\n",
              "      <td>2</td>\n",
              "      <td>4920</td>\n",
              "      <td>Novak Djokovic</td>\n",
              "      <td>Serbia</td>\n",
              "      <td>SRB</td>\n",
              "      <td>rs</td>\n",
              "      <td>True</td>\n",
              "      <td>1987-05-22</td>\n",
              "      <td>901</td>\n",
              "      <td>500</td>\n",
              "      <td>200</td>\n",
              "      <td>201</td>\n",
              "      <td>215</td>\n",
              "      <td>44</td>\n",
              "      <td>195</td>\n",
              "      <td>1</td>\n",
              "      <td>40</td>\n",
              "      <td>5</td>\n",
              "      <td>75</td>\n",
              "      <td>8</td>\n",
              "      <td>32</td>\n",
              "      <td>49</td>\n",
              "      <td>36</td>\n",
              "      <td>30</td>\n",
              "      <td>44</td>\n",
              "      <td>26</td>\n",
              "      <td>71</td>\n",
              "      <td>9</td>\n",
              "      <td>8</td>\n",
              "      <td>11</td>\n",
              "      <td>2</td>\n",
              "      <td>18</td>\n",
              "      <td>5</td>\n",
              "      <td>0</td>\n",
              "      <td>36</td>\n",
              "      <td>0</td>\n",
              "      <td>59</td>\n",
              "      <td>82</td>\n",
              "      <td>322</td>\n",
              "      <td>950-194</td>\n",
              "      <td>2629</td>\n",
              "      <td>2016-02-01</td>\n",
              "      <td>83.0%</td>\n",
              "    </tr>\n",
              "  </tbody>\n",
              "</table>\n",
              "</div>"
            ],
            "text/plain": [
              "   current  rowCount  ...  rows.bestEloRatingDate  rows.wonPct\n",
              "0        1       654  ...              2007-03-05        81.9%\n",
              "1        1       654  ...              2016-02-01        83.0%\n",
              "\n",
              "[2 rows x 46 columns]"
            ]
          },
          "metadata": {
            "tags": []
          },
          "execution_count": 4
        }
      ]
    },
    {
      "cell_type": "code",
      "metadata": {
        "colab": {
          "base_uri": "https://localhost:8080/",
          "height": 165
        },
        "id": "E51w2SkGJLSX",
        "outputId": "a7867a08-b0df-420e-c9e1-e0a15fada62c"
      },
      "source": [
        "# Let's clean or dataframe\n",
        "new_df.columns = new_df.columns.str.replace(\"rows\", \"\")\n",
        "new_df.columns = new_df.columns.str.replace(\"_\", \"\")\n",
        "new_df.columns = new_df.columns.str.replace(\"Points\", \"_Points\")\n",
        "new_df.columns = new_df.columns.str.replace(\".\", \"\")\n",
        "new_df.drop(['current', 'rowCount', 'total', 'playerId'], axis=1, inplace=True)\n",
        "\n",
        "new_df.head(2)"
      ],
      "execution_count": 5,
      "outputs": [
        {
          "output_type": "execute_result",
          "data": {
            "text/html": [
              "<div>\n",
              "<style scoped>\n",
              "    .dataframe tbody tr th:only-of-type {\n",
              "        vertical-align: middle;\n",
              "    }\n",
              "\n",
              "    .dataframe tbody tr th {\n",
              "        vertical-align: top;\n",
              "    }\n",
              "\n",
              "    .dataframe thead th {\n",
              "        text-align: right;\n",
              "    }\n",
              "</style>\n",
              "<table border=\"1\" class=\"dataframe\">\n",
              "  <thead>\n",
              "    <tr style=\"text-align: right;\">\n",
              "      <th></th>\n",
              "      <th>rank</th>\n",
              "      <th>name</th>\n",
              "      <th>countryname</th>\n",
              "      <th>countryid</th>\n",
              "      <th>countrycode</th>\n",
              "      <th>active</th>\n",
              "      <th>dob</th>\n",
              "      <th>total_Points</th>\n",
              "      <th>tournament_Points</th>\n",
              "      <th>ranking_Points</th>\n",
              "      <th>achievements_Points</th>\n",
              "      <th>tG_Points</th>\n",
              "      <th>tFL_Points</th>\n",
              "      <th>tM_Points</th>\n",
              "      <th>tO_Points</th>\n",
              "      <th>tAB_Points</th>\n",
              "      <th>tDT_Points</th>\n",
              "      <th>yearEndRank_Points</th>\n",
              "      <th>bestRank_Points</th>\n",
              "      <th>weeksAtNo1_Points</th>\n",
              "      <th>weeksAtEloTopN_Points</th>\n",
              "      <th>bestEloRating_Points</th>\n",
              "      <th>grandSlam_Points</th>\n",
              "      <th>bigWins_Points</th>\n",
              "      <th>h2h_Points</th>\n",
              "      <th>records_Points</th>\n",
              "      <th>bestSeason_Points</th>\n",
              "      <th>greatestRivalries_Points</th>\n",
              "      <th>performance_Points</th>\n",
              "      <th>statistics_Points</th>\n",
              "      <th>grandSlams</th>\n",
              "      <th>tourFinals</th>\n",
              "      <th>altFinals</th>\n",
              "      <th>masters</th>\n",
              "      <th>olympics</th>\n",
              "      <th>bigTitles</th>\n",
              "      <th>titles</th>\n",
              "      <th>weeksAtNo1</th>\n",
              "      <th>wonLost</th>\n",
              "      <th>bestEloRating</th>\n",
              "      <th>bestEloRatingDate</th>\n",
              "      <th>wonPct</th>\n",
              "    </tr>\n",
              "  </thead>\n",
              "  <tbody>\n",
              "    <tr>\n",
              "      <th>0</th>\n",
              "      <td>1</td>\n",
              "      <td>Roger Federer</td>\n",
              "      <td>Switzerland</td>\n",
              "      <td>SUI</td>\n",
              "      <td>ch</td>\n",
              "      <td>True</td>\n",
              "      <td>1981-08-08</td>\n",
              "      <td>934</td>\n",
              "      <td>565</td>\n",
              "      <td>199</td>\n",
              "      <td>170</td>\n",
              "      <td>245</td>\n",
              "      <td>65</td>\n",
              "      <td>172</td>\n",
              "      <td>2</td>\n",
              "      <td>80</td>\n",
              "      <td>1</td>\n",
              "      <td>83</td>\n",
              "      <td>8</td>\n",
              "      <td>31</td>\n",
              "      <td>59</td>\n",
              "      <td>18</td>\n",
              "      <td>32</td>\n",
              "      <td>40</td>\n",
              "      <td>18</td>\n",
              "      <td>66</td>\n",
              "      <td>3</td>\n",
              "      <td>3</td>\n",
              "      <td>5</td>\n",
              "      <td>3</td>\n",
              "      <td>20</td>\n",
              "      <td>6</td>\n",
              "      <td>0</td>\n",
              "      <td>28</td>\n",
              "      <td>0</td>\n",
              "      <td>54</td>\n",
              "      <td>103</td>\n",
              "      <td>310</td>\n",
              "      <td>1237-273</td>\n",
              "      <td>2550</td>\n",
              "      <td>2007-03-05</td>\n",
              "      <td>81.9%</td>\n",
              "    </tr>\n",
              "    <tr>\n",
              "      <th>1</th>\n",
              "      <td>2</td>\n",
              "      <td>Novak Djokovic</td>\n",
              "      <td>Serbia</td>\n",
              "      <td>SRB</td>\n",
              "      <td>rs</td>\n",
              "      <td>True</td>\n",
              "      <td>1987-05-22</td>\n",
              "      <td>901</td>\n",
              "      <td>500</td>\n",
              "      <td>200</td>\n",
              "      <td>201</td>\n",
              "      <td>215</td>\n",
              "      <td>44</td>\n",
              "      <td>195</td>\n",
              "      <td>1</td>\n",
              "      <td>40</td>\n",
              "      <td>5</td>\n",
              "      <td>75</td>\n",
              "      <td>8</td>\n",
              "      <td>32</td>\n",
              "      <td>49</td>\n",
              "      <td>36</td>\n",
              "      <td>30</td>\n",
              "      <td>44</td>\n",
              "      <td>26</td>\n",
              "      <td>71</td>\n",
              "      <td>9</td>\n",
              "      <td>8</td>\n",
              "      <td>11</td>\n",
              "      <td>2</td>\n",
              "      <td>18</td>\n",
              "      <td>5</td>\n",
              "      <td>0</td>\n",
              "      <td>36</td>\n",
              "      <td>0</td>\n",
              "      <td>59</td>\n",
              "      <td>82</td>\n",
              "      <td>322</td>\n",
              "      <td>950-194</td>\n",
              "      <td>2629</td>\n",
              "      <td>2016-02-01</td>\n",
              "      <td>83.0%</td>\n",
              "    </tr>\n",
              "  </tbody>\n",
              "</table>\n",
              "</div>"
            ],
            "text/plain": [
              "   rank            name  countryname  ... bestEloRating bestEloRatingDate  wonPct\n",
              "0     1   Roger Federer  Switzerland  ...          2550        2007-03-05   81.9%\n",
              "1     2  Novak Djokovic       Serbia  ...          2629        2016-02-01   83.0%\n",
              "\n",
              "[2 rows x 42 columns]"
            ]
          },
          "metadata": {
            "tags": []
          },
          "execution_count": 5
        }
      ]
    },
    {
      "cell_type": "code",
      "metadata": {
        "colab": {
          "base_uri": "https://localhost:8080/"
        },
        "id": "VsVK5DPqQ6_O",
        "outputId": "cbcf9768-2af8-4d6d-e71a-33996afcd40f"
      },
      "source": [
        "# Investigate the dtype\n",
        "new_df.info()"
      ],
      "execution_count": 6,
      "outputs": [
        {
          "output_type": "stream",
          "text": [
            "<class 'pandas.core.frame.DataFrame'>\n",
            "RangeIndex: 654 entries, 0 to 653\n",
            "Data columns (total 42 columns):\n",
            " #   Column                    Non-Null Count  Dtype \n",
            "---  ------                    --------------  ----- \n",
            " 0   rank                      654 non-null    int64 \n",
            " 1   name                      654 non-null    object\n",
            " 2   countryname               654 non-null    object\n",
            " 3   countryid                 654 non-null    object\n",
            " 4   countrycode               654 non-null    object\n",
            " 5   active                    654 non-null    bool  \n",
            " 6   dob                       654 non-null    object\n",
            " 7   total_Points              654 non-null    int64 \n",
            " 8   tournament_Points         654 non-null    int64 \n",
            " 9   ranking_Points            654 non-null    int64 \n",
            " 10  achievements_Points       654 non-null    int64 \n",
            " 11  tG_Points                 654 non-null    int64 \n",
            " 12  tFL_Points                654 non-null    int64 \n",
            " 13  tM_Points                 654 non-null    int64 \n",
            " 14  tO_Points                 654 non-null    int64 \n",
            " 15  tAB_Points                654 non-null    int64 \n",
            " 16  tDT_Points                654 non-null    int64 \n",
            " 17  yearEndRank_Points        654 non-null    int64 \n",
            " 18  bestRank_Points           654 non-null    int64 \n",
            " 19  weeksAtNo1_Points         654 non-null    int64 \n",
            " 20  weeksAtEloTopN_Points     654 non-null    int64 \n",
            " 21  bestEloRating_Points      654 non-null    int64 \n",
            " 22  grandSlam_Points          654 non-null    int64 \n",
            " 23  bigWins_Points            654 non-null    int64 \n",
            " 24  h2h_Points                654 non-null    int64 \n",
            " 25  records_Points            654 non-null    int64 \n",
            " 26  bestSeason_Points         654 non-null    int64 \n",
            " 27  greatestRivalries_Points  654 non-null    int64 \n",
            " 28  performance_Points        654 non-null    int64 \n",
            " 29  statistics_Points         654 non-null    int64 \n",
            " 30  grandSlams                654 non-null    int64 \n",
            " 31  tourFinals                654 non-null    int64 \n",
            " 32  altFinals                 654 non-null    int64 \n",
            " 33  masters                   654 non-null    int64 \n",
            " 34  olympics                  654 non-null    int64 \n",
            " 35  bigTitles                 654 non-null    int64 \n",
            " 36  titles                    654 non-null    int64 \n",
            " 37  weeksAtNo1                654 non-null    int64 \n",
            " 38  wonLost                   654 non-null    object\n",
            " 39  bestEloRating             654 non-null    int64 \n",
            " 40  bestEloRatingDate         653 non-null    object\n",
            " 41  wonPct                    654 non-null    object\n",
            "dtypes: bool(1), int64(33), object(8)\n",
            "memory usage: 210.2+ KB\n"
          ],
          "name": "stdout"
        }
      ]
    },
    {
      "cell_type": "code",
      "metadata": {
        "colab": {
          "base_uri": "https://localhost:8080/"
        },
        "id": "Q7I93wX1UO9u",
        "outputId": "88deee71-a313-4a46-dc8a-bcf29cfdd04a"
      },
      "source": [
        "# Separate the column \"wonLost\"\n",
        "# new data frame with split value columns\n",
        "wonlost = new_df[\"wonLost\"].str.split(\"-\", n = 1, expand = True)\n",
        "#wonlost.head(2)\n",
        "  \n",
        "# making separate first name column from new data frame\n",
        "new_df[\"Won\"]= wonlost[0]\n",
        "  \n",
        "# making separate last name column from new data frame\n",
        "new_df[\"Lost\"]= wonlost[1]\n",
        "  \n",
        "# Dropping old Name columns\n",
        "new_df.drop(columns =[\"wonLost\"], inplace = True)\n",
        "\n",
        "# Parse the bestEloRatingDate into date\n",
        "new_df['bestEloRatingDate']= pd.to_datetime(new_df['bestEloRatingDate'])\n",
        "new_df['Won'] = pd.to_numeric(new_df['Won'])\n",
        "new_df['Lost'] = pd.to_numeric(new_df['Lost'])\n",
        "\n",
        "# Parse to percentaje the wonPct\n",
        "# Remove the \"%\" of the data\n",
        "new_df['wonPct'] = new_df['wonPct'].str.replace(\"%\", \"\")\n",
        "\n",
        "new_df['wonPct'] = pd.to_numeric(new_df['wonPct'])\n",
        "\n",
        "# Investigate the dtype\n",
        "new_df.info()"
      ],
      "execution_count": 7,
      "outputs": [
        {
          "output_type": "stream",
          "text": [
            "<class 'pandas.core.frame.DataFrame'>\n",
            "RangeIndex: 654 entries, 0 to 653\n",
            "Data columns (total 43 columns):\n",
            " #   Column                    Non-Null Count  Dtype         \n",
            "---  ------                    --------------  -----         \n",
            " 0   rank                      654 non-null    int64         \n",
            " 1   name                      654 non-null    object        \n",
            " 2   countryname               654 non-null    object        \n",
            " 3   countryid                 654 non-null    object        \n",
            " 4   countrycode               654 non-null    object        \n",
            " 5   active                    654 non-null    bool          \n",
            " 6   dob                       654 non-null    object        \n",
            " 7   total_Points              654 non-null    int64         \n",
            " 8   tournament_Points         654 non-null    int64         \n",
            " 9   ranking_Points            654 non-null    int64         \n",
            " 10  achievements_Points       654 non-null    int64         \n",
            " 11  tG_Points                 654 non-null    int64         \n",
            " 12  tFL_Points                654 non-null    int64         \n",
            " 13  tM_Points                 654 non-null    int64         \n",
            " 14  tO_Points                 654 non-null    int64         \n",
            " 15  tAB_Points                654 non-null    int64         \n",
            " 16  tDT_Points                654 non-null    int64         \n",
            " 17  yearEndRank_Points        654 non-null    int64         \n",
            " 18  bestRank_Points           654 non-null    int64         \n",
            " 19  weeksAtNo1_Points         654 non-null    int64         \n",
            " 20  weeksAtEloTopN_Points     654 non-null    int64         \n",
            " 21  bestEloRating_Points      654 non-null    int64         \n",
            " 22  grandSlam_Points          654 non-null    int64         \n",
            " 23  bigWins_Points            654 non-null    int64         \n",
            " 24  h2h_Points                654 non-null    int64         \n",
            " 25  records_Points            654 non-null    int64         \n",
            " 26  bestSeason_Points         654 non-null    int64         \n",
            " 27  greatestRivalries_Points  654 non-null    int64         \n",
            " 28  performance_Points        654 non-null    int64         \n",
            " 29  statistics_Points         654 non-null    int64         \n",
            " 30  grandSlams                654 non-null    int64         \n",
            " 31  tourFinals                654 non-null    int64         \n",
            " 32  altFinals                 654 non-null    int64         \n",
            " 33  masters                   654 non-null    int64         \n",
            " 34  olympics                  654 non-null    int64         \n",
            " 35  bigTitles                 654 non-null    int64         \n",
            " 36  titles                    654 non-null    int64         \n",
            " 37  weeksAtNo1                654 non-null    int64         \n",
            " 38  bestEloRating             654 non-null    int64         \n",
            " 39  bestEloRatingDate         653 non-null    datetime64[ns]\n",
            " 40  wonPct                    654 non-null    float64       \n",
            " 41  Won                       654 non-null    int64         \n",
            " 42  Lost                      654 non-null    int64         \n",
            "dtypes: bool(1), datetime64[ns](1), float64(1), int64(35), object(5)\n",
            "memory usage: 215.4+ KB\n"
          ],
          "name": "stdout"
        }
      ]
    },
    {
      "cell_type": "markdown",
      "metadata": {
        "id": "sa33kFIgkl4C"
      },
      "source": [
        "## What is the distribution or average in weeks for a player that reach the number 1 of the ranking ATP?"
      ]
    },
    {
      "cell_type": "code",
      "metadata": {
        "colab": {
          "base_uri": "https://localhost:8080/",
          "height": 441
        },
        "id": "KQYxGyoEMTni",
        "outputId": "8ff366d5-17b6-46de-f503-a36bf2083877"
      },
      "source": [
        "# Filter the data to select only the columns that weeks in N° are more than 0\n",
        "weeks_number_one = new_df[new_df[\"weeksAtNo1\"] > 0]\n",
        "\n",
        "# Calculate the average\n",
        "average = np.mean(weeks_number_one[\"weeksAtNo1\"])\n",
        "\n",
        "# Create the figure\n",
        "fig, ax = plt.subplots(figsize=(8,6))\n",
        "\n",
        "# Style of the plot\n",
        "ax.spines['right'].set_visible(False)\n",
        "ax.spines['top'].set_visible(False)\n",
        "\n",
        "# Make the histogram\n",
        "plt.hist(weeks_number_one[\"weeksAtNo1\"], bins=20, edgecolor=color_1, color=color_2)\n",
        "plt.axvline(average, color=color_1, label=\"Average weeks\", linewidth=2, ls=\":\")\n",
        "\n",
        "# Post the title and labels\n",
        "plt.title(\"Distribution and average of number of weeks at N° 1 ATP Ranking\", pad=20)\n",
        "plt.xlabel(\"Number of weeks\")\n",
        "plt.ylabel(\"Counts\")\n",
        "\n",
        "plt.tight_layout()\n",
        "plt.legend()\n",
        "plt.show()"
      ],
      "execution_count": 8,
      "outputs": [
        {
          "output_type": "display_data",
          "data": {
            "image/png": "[encoded data removed]",
            "text/plain": [
              "<Figure size 576x432 with 1 Axes>"
            ]
          },
          "metadata": {
            "tags": [],
            "needs_background": "light"
          }
        }
      ]
    },
    {
      "cell_type": "markdown",
      "metadata": {
        "id": "3NRaxAc-wftB"
      },
      "source": [
        "We can see that it's pretty hard to beat more than 50 weeks in the number one of the ranking and become harder when we talk about more than 100 weeks. The interesting thing is like when you can pass this barrier, you can reach a pretty good streak. For example, we can see that the other values are between in the range of 150 and 300 weeks!\n",
        "\n",
        "The average weeks in the number one of the ATP Ranking is 98,6 weeks."
      ]
    },
    {
      "cell_type": "markdown",
      "metadata": {
        "id": "KAk6HyZSz54_"
      },
      "source": [
        "## Which players has the most weeks as No. 1 in the ATP Rankings?\n",
        "\n",
        "\n"
      ]
    },
    {
      "cell_type": "code",
      "metadata": {
        "colab": {
          "base_uri": "https://localhost:8080/",
          "height": 418
        },
        "id": "KgeEdYhKz_Ro",
        "outputId": "fe8c6e0b-9b78-4a35-f590-bc87a5d8626e"
      },
      "source": [
        "# Create a new df that groups the 10 best players who reached the N ° 1 ATP Rankings\n",
        "top_players = weeks_number_one[['name', 'weeksAtNo1']][:11].sort_values(by=['weeksAtNo1']).reset_index(drop=True)\n",
        "\n",
        "# Calculate the average of the top players\n",
        "top_players_average = np.mean(top_players['weeksAtNo1'])\n",
        "\n",
        "# Let's create a bar plot\n",
        "# Create the figure\n",
        "fig, ax = plt.subplots(figsize=(8,6))\n",
        "\n",
        "# Style of the plot\n",
        "ax.spines['right'].set_visible(False)\n",
        "ax.spines['top'].set_visible(False)\n",
        "\n",
        "# Make the barplot\n",
        "plt.barh(top_players['name'], top_players['weeksAtNo1'], data=top_players, color=color_2)\n",
        "plt.axvline(top_players_average, color=color_1, label=\"Average weeks for top ten players\", linewidth=2)\n",
        "plt.axvline(average, color='red', label=\"Average weeks for all players\", linewidth=2, ls=\"--\")\n",
        "\n",
        "# Post the title and labels\n",
        "plt.title(\"Weeks at number one in the ATP Ranking for the top ten players\", pad=20)\n",
        "\n",
        "plt.xlabel(\"Number of weeks\")\n",
        "plt.ylabel(\"Top Players\")\n",
        "\n",
        "plt.legend()\n",
        "plt.show()"
      ],
      "execution_count": 9,
      "outputs": [
        {
          "output_type": "display_data",
          "data": {
            "image/png": "[encoded data removed]",
            "text/plain": [
              "<Figure size 576x432 with 1 Axes>"
            ]
          },
          "metadata": {
            "tags": [],
            "needs_background": "light"
          }
        }
      ]
    },
    {
      "cell_type": "markdown",
      "metadata": {
        "id": "m7BrO1QH8n7P"
      },
      "source": [
        "What happens if we do the same process but only for the active player?"
      ]
    },
    {
      "cell_type": "code",
      "metadata": {
        "colab": {
          "base_uri": "https://localhost:8080/",
          "height": 418
        },
        "id": "kbyqBxIUATUn",
        "outputId": "cf0b69bd-8d7a-4ca1-ab06-7fca1e28735e"
      },
      "source": [
        "# Create a new df with only the active players\n",
        "active_players = weeks_number_one[weeks_number_one.active == True]\n",
        "\n",
        "# Create a new df that groups the 10 best players who reached the N ° 1 ATP Rankings\n",
        "active_top_players = active_players[['name', 'weeksAtNo1']].sort_values(by=['weeksAtNo1']).reset_index(drop=True)\n",
        "\n",
        "# Calculate the average of the top players\n",
        "active_top_players_average = np.mean(active_top_players['weeksAtNo1'])\n",
        "\n",
        "# Let's create a bar plot\n",
        "# Create the figure\n",
        "fig, ax = plt.subplots(figsize=(8,6))\n",
        "\n",
        "# Style of the plot\n",
        "ax.spines['right'].set_visible(False)\n",
        "ax.spines['top'].set_visible(False)\n",
        "\n",
        "# Make the barplot\n",
        "plt.barh(active_top_players['name'], active_top_players['weeksAtNo1'], data=top_players, color=color_2)\n",
        "plt.axvline(active_top_players_average, color=color_1, label=\"Average weeks for active players\", linewidth=2)\n",
        "plt.axvline(average, color='red', label=\"Average weeks for all players\", linewidth=2, ls=\"--\")\n",
        "\n",
        "# Post the title and labels\n",
        "plt.title(\"Weeks at number one in the ATP Ranking for active players\", pad=20)\n",
        "\n",
        "plt.xlabel(\"Number of weeks\")\n",
        "plt.ylabel(\"Players\")\n",
        "\n",
        "plt.legend()\n",
        "plt.show()"
      ],
      "execution_count": 10,
      "outputs": [
        {
          "output_type": "display_data",
          "data": {
            "image/png": "[encoded data removed]",
            "text/plain": [
              "<Figure size 576x432 with 1 Axes>"
            ]
          },
          "metadata": {
            "tags": [],
            "needs_background": "light"
          }
        }
      ]
    },
    {
      "cell_type": "markdown",
      "metadata": {
        "id": "rwzaEfHRwASk"
      },
      "source": [
        "As we can see in these graphs, Novak, Federer, Sampras are the players with the most weeks at No. 1 in the ATP Rankings.\n",
        "If we only consider active players, Novak, Federer and Nadal, where those with more weeks at No. 1. Also, if we compare the average weeks in tennis number one for the top ten vs all players, we see they have a difference of 100 weeks more approximately."
      ]
    },
    {
      "cell_type": "markdown",
      "metadata": {
        "id": "-sPfpxKmOTX3"
      },
      "source": [
        "# Who is the player who won the most Grand Slam?"
      ]
    },
    {
      "cell_type": "code",
      "metadata": {
        "colab": {
          "base_uri": "https://localhost:8080/",
          "height": 418
        },
        "id": "2kdVnhPAOWRV",
        "outputId": "5d45dd21-5560-45da-bd0c-9cf209f0d633"
      },
      "source": [
        "# Create a new DF with only the players who won a Grand Slam title\n",
        "grand_slam = new_df[new_df[\"grandSlams\"] > 0][:10].sort_values(by='grandSlams', ascending=True)\n",
        "\n",
        "\n",
        "# Let's create a bar plot\n",
        "# Create the figure\n",
        "fig, ax = plt.subplots(figsize=(8,6))\n",
        "\n",
        "# Style of the plot\n",
        "ax.spines['right'].set_visible(False)\n",
        "ax.spines['top'].set_visible(False)\n",
        "ax.set_xticks(range(1,25,1))\n",
        "\n",
        "# Make the barplot\n",
        "plt.barh(grand_slam['name'], grand_slam['grandSlams'], data=grand_slam, color=color_1)\n",
        "\n",
        "\n",
        "# Post the title and labels\n",
        "plt.title(\"Number of titles of Grand Slams by the top players\", pad=20)\n",
        "\n",
        "plt.xlabel(\"Number of Grand Slam Title\")\n",
        "plt.ylabel(\"Top Players\")\n",
        "\n",
        "plt.show()"
      ],
      "execution_count": 11,
      "outputs": [
        {
          "output_type": "display_data",
          "data": {
            "image/png": "[encoded data removed]",
            "text/plain": [
              "<Figure size 576x432 with 1 Axes>"
            ]
          },
          "metadata": {
            "tags": [],
            "needs_background": "light"
          }
        }
      ]
    },
    {
      "cell_type": "markdown",
      "metadata": {
        "id": "a0PkUrZHxoL7"
      },
      "source": [
        "**Let's go Roger, Let's Go**"
      ]
    },
    {
      "cell_type": "markdown",
      "metadata": {
        "id": "WUXLUw1gS9iP"
      },
      "source": [
        "# Which countries have the most number one players?\n",
        "\n"
      ]
    },
    {
      "cell_type": "code",
      "metadata": {
        "colab": {
          "base_uri": "https://localhost:8080/",
          "height": 418
        },
        "id": "s_nT1x2HTJlV",
        "outputId": "a2fce7df-e436-4848-b237-9913645d90c8"
      },
      "source": [
        "# We can create a new column using lambda that is one if Week on number one is more than 0\n",
        "new_df[\"Number_one\"] = new_df[\"weeksAtNo1\"].apply(lambda x: 1 if x > 0 else 0)\n",
        "\n",
        "# Now we can create a pivot table with the sum of how many players reached number one per country.\n",
        "countries_top = new_df.groupby('countryname')['Number_one'].sum().reset_index(name='sum')\n",
        "# Let's printed \n",
        "#countries_top # It's Ok\n",
        "\n",
        "countries_top = countries_top[countries_top['sum']>0]\n",
        "countries_top = countries_top.sort_values(by='sum', ascending=True)\n",
        "\n",
        "# We can create a bar plot of country and this new column\n",
        "# Create the figure\n",
        "fig, ax = plt.subplots(figsize=(8,6))\n",
        "\n",
        "# Style of the plot\n",
        "ax.spines['right'].set_visible(False)\n",
        "ax.spines['top'].set_visible(False)\n",
        "ax.set_xticks(range(1,10,1))\n",
        "\n",
        "# Make the barplot\n",
        "plt.barh(countries_top['countryname'], countries_top['sum'], data=countries_top, color=color_2)\n",
        "\n",
        "# Post the title and labels\n",
        "plt.title(\"Countries whit more players in the number one ATP tennis Ranking\", pad=20)\n",
        "\n",
        "plt.xlabel(\"Number of players\")\n",
        "plt.ylabel(\"Country ID\")\n",
        "\n",
        "\n",
        "plt.show()"
      ],
      "execution_count": 12,
      "outputs": [
        {
          "output_type": "display_data",
          "data": {
            "image/png": "[encoded data removed]",
            "text/plain": [
              "<Figure size 576x432 with 1 Axes>"
            ]
          },
          "metadata": {
            "tags": [],
            "needs_background": "light"
          }
        }
      ]
    },
    {
      "cell_type": "markdown",
      "metadata": {
        "id": "njxGg9XfE4qe"
      },
      "source": [
        "The United States, Australia, Sweden and Spain are the countries with the most players who have reached number one in tennis.\n",
        "\n",
        "There are 2 Latin American countries (Brazil and Chile) on this list.\n",
        "Brazil: guga kuerten.\n",
        "Chile: Marcelo Ríos.\n",
        "👏👏🎉"
      ]
    }
  ]
}